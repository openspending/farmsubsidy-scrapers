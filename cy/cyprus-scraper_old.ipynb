{
 "cells": [
  {
   "cell_type": "code",
   "execution_count": null,
   "metadata": {},
   "outputs": [],
   "source": [
    "# http://www.capo.gov.cy/capo/capo.nsf/All/B3C8BE19E2B8C3A8C2257FC6003EB33A/$file/BENEFICIARIES_2014_FINAL_v3.xlsx\n",
    "# http://www.capo.gov.cy/capo/CAPO.nsf/All/D81AAD936F05B416C2257FC6003F385F/$file/%CE%A0%CE%BB%CE%B7%CF%81%CF%89%CE%BC%CE%AD%CF%82%20%CE%B4%CE%B9%CE%BA%CE%B1%CE%B9%CE%BF%CF%8D%CF%87%CF%89%CE%BD%202015%20-%2031-5-16%20.xlsx\n",
    "# http://www.capo.gov.cy/capo/capo.nsf/All/BD7C94C6B96F36D8C2257E5A00385E12/$$file/BENEFICIARIES_2014_FINAL_v3.xlsx"
   ]
  },
  {
   "cell_type": "code",
   "execution_count": 9,
   "metadata": {},
   "outputs": [
    {
     "name": "stdout",
     "output_type": "stream",
     "text": [
      "--2023-11-03 07:39:21--  http://www.capo.gov.cy/capo/capo.nsf/05082a1738ff5899c225776f002ea4a8/AD063B69CE4D0D06C2258131002AA09F/$file/FINAL%20%CE%A0%CE%BB%CE%B7%CF%81%CF%89%CE%BC%CE%AD%CF%82%20%CE%94%CE%B9%CE%BA%CE%B1%CE%B9%CE%BF%CF%8D%CF%87%CF%89%CE%BD%202016-%2031.5.17.xlsx\n",
      "Auflösen des Hostnamens www.capo.gov.cy (www.capo.gov.cy) … 212.31.118.152\n",
      "Verbindungsaufbau zu www.capo.gov.cy (www.capo.gov.cy)|212.31.118.152|:80 … verbunden.\n",
      "HTTP-Anforderung gesendet, auf Antwort wird gewartet … 302 Found\n",
      "Platz: https://www.capo.gov.cy/capo/capo.nsf/05082a1738ff5899c225776f002ea4a8/AD063B69CE4D0D06C2258131002AA09F/$file/FINAL%20%CE%A0%CE%BB%CE%B7%CF%81%CF%89%CE%BC%CE%AD%CF%82%20%CE%94%CE%B9%CE%BA%CE%B1%CE%B9%CE%BF%CF%8D%CF%87%CF%89%CE%BD%202016-%2031.5.17.xlsx [folgend]\n",
      "--2023-11-03 07:39:21--  https://www.capo.gov.cy/capo/capo.nsf/05082a1738ff5899c225776f002ea4a8/AD063B69CE4D0D06C2258131002AA09F/$file/FINAL%20%CE%A0%CE%BB%CE%B7%CF%81%CF%89%CE%BC%CE%AD%CF%82%20%CE%94%CE%B9%CE%BA%CE%B1%CE%B9%CE%BF%CF%8D%CF%87%CF%89%CE%BD%202016-%2031.5.17.xlsx\n",
      "Verbindungsaufbau zu www.capo.gov.cy (www.capo.gov.cy)|212.31.118.152|:443 … verbunden.\n",
      "FEHLER: Das Zertifikat von www.capo.gov.cy kann nicht geprüft werden, ausgestellt von ‘CN=GeoTrust TLS RSA CA G1,OU=www.digicert.com,O=DigiCert Inc,C=US’:.\n",
      "  Die Autorität des Zertifikatausstellers kann lokal nicht geprüft werden.\n",
      "Verwenden Sie »--no-check-certificate«, um zu dem Server www.capo.gov.cy eine nicht gesicherte Verbindung aufzubauen.\n"
     ]
    }
   ],
   "source": [
    "!wget -nc -O cy_2016_raw.xlsx 'http://www.capo.gov.cy/capo/capo.nsf/05082a1738ff5899c225776f002ea4a8/AD063B69CE4D0D06C2258131002AA09F/$file/FINAL%20%CE%A0%CE%BB%CE%B7%CF%81%CF%89%CE%BC%CE%AD%CF%82%20%CE%94%CE%B9%CE%BA%CE%B1%CE%B9%CE%BF%CF%8D%CF%87%CF%89%CE%BD%202016-%2031.5.17.xlsx'"
   ]
  },
  {
   "cell_type": "code",
   "execution_count": null,
   "metadata": {},
   "outputs": [],
   "source": [
    "import pandas as pd"
   ]
  },
  {
   "cell_type": "code",
   "execution_count": null,
   "metadata": {},
   "outputs": [],
   "source": [
    "YEAR = 2016"
   ]
  },
  {
   "cell_type": "code",
   "execution_count": null,
   "metadata": {},
   "outputs": [],
   "source": [
    "excel = pd.ExcelFile('cy_%s_raw.xlsx' % YEAR)\n",
    "excel.sheet_names"
   ]
  },
  {
   "cell_type": "code",
   "execution_count": null,
   "metadata": {},
   "outputs": [],
   "source": [
    "SHEET_NAME = 'Πληρωμές Δικαιούχων' # means 'Beneficiary Payments'"
   ]
  },
  {
   "cell_type": "code",
   "execution_count": null,
   "metadata": {},
   "outputs": [],
   "source": [
    "df = pd.read_excel('cy_%s_raw.xlsx' % YEAR, sheetname=SHEET_NAME)\n",
    "original_columns = list(df.columns)\n",
    "df.head()"
   ]
  },
  {
   "cell_type": "code",
   "execution_count": null,
   "metadata": {},
   "outputs": [],
   "source": [
    "original_columns"
   ]
  },
  {
   "cell_type": "code",
   "execution_count": null,
   "metadata": {},
   "outputs": [],
   "source": [
    "translations = [\n",
    "    'recipient_name',\n",
    "    'application_code',\n",
    "    'EAGF',\n",
    "    'EAFRD',\n",
    "    'total',\n",
    "    'scheme_code',\n",
    "    'scheme_code_short',\n",
    "    'scheme_description',\n",
    "    'recipient_postcode',\n",
    "    'recipient_location'\n",
    "]"
   ]
  },
  {
   "cell_type": "code",
   "execution_count": null,
   "metadata": {},
   "outputs": [],
   "source": [
    "df = df.rename(columns=dict(zip(original_columns, translations)))\n",
    "df['year'] = YEAR\n",
    "df = df.drop(columns=['scheme_code'])\n",
    "df['scheme'] = df.apply(lambda x: '%s - %s' % (x['scheme_code_short'], x['scheme_description']), 1)\n",
    "df.head()"
   ]
  },
  {
   "cell_type": "code",
   "execution_count": null,
   "metadata": {},
   "outputs": [],
   "source": [
    "# df_2014 = pd.read_excel('BENEFICIARIES_2014_FINAL_v3.xlsx')\n",
    "# original_columns = list(df_2014.columns)\n",
    "# translations = ('CODE MEASURE (ABB CODE)',\n",
    "#                'CODE EPEXIGISIS MEASURE',\n",
    "#                'MEASURE', 'CODE APPLICANT', 'NAME / TRADE NAME', 'EAGF', 'EAFRD', 'POSTAL CODE', 'COMMUNITY / DISTRICT')\n",
    "# df_2014 = df_2014.rename(columns=dict(zip(original_columns, translations)))\n",
    "# df_2014 = df_2014.rename(columns={\n",
    "#     'COMMUNITY / DISTRICT': 'recipient_location',\n",
    "#     'POSTAL CODE': 'recipient_postcode',\n",
    "#     'NAME / TRADE NAME': 'recipient_name',\n",
    "#     'CODE EPEXIGISIS MEASURE': 'scheme'\n",
    "# }).drop(['CODE MEASURE (ABB CODE)', 'MEASURE'], 1)\n",
    "# df_2014['year'] = 2014\n",
    "# df_2014.head()"
   ]
  },
  {
   "cell_type": "code",
   "execution_count": null,
   "metadata": {},
   "outputs": [],
   "source": [
    "# There only ever is one value filled EAGF or EAFRD\n",
    "((df[['EAGF', 'EAFRD']].fillna(0.0) == 0.0).sum(1) > 1).any()"
   ]
  },
  {
   "cell_type": "code",
   "execution_count": null,
   "metadata": {},
   "outputs": [],
   "source": [
    "from slugify import slugify\n",
    "\n",
    "df['country'] = 'CY'\n",
    "df['currency'] = 'EUR'\n",
    "\n",
    "df['recipient_id'] = df.apply(lambda x: 'CY-%s' % x['application_code'] if pd.notnull(x['application_code']) else\n",
    "                                        'CY-%s-%s' % (x['recipient_postcode'], slugify(\n",
    "                                            '' if pd.isnull(x['recipient_name']) else x['recipient_name'])), 1)\n",
    "\n",
    "df['amount'] = df.apply(lambda x: x[['EAGF', 'EAFRD']].sum(), 1)\n",
    "df = df.drop(['application_code', 'EAFRD', 'EAGF'], 1)\n",
    "df.head()"
   ]
  },
  {
   "cell_type": "code",
   "execution_count": null,
   "metadata": {},
   "outputs": [],
   "source": [
    "df.to_csv('cy_%s.csv.gz' % YEAR, index=False, encoding='utf-8', compression='gzip')"
   ]
  }
 ],
 "metadata": {
  "kernelspec": {
   "display_name": "Python 3 (ipykernel)",
   "language": "python",
   "name": "python3"
  },
  "language_info": {
   "codemirror_mode": {
    "name": "ipython",
    "version": 3
   },
   "file_extension": ".py",
   "mimetype": "text/x-python",
   "name": "python",
   "nbconvert_exporter": "python",
   "pygments_lexer": "ipython3",
   "version": "3.9.18"
  }
 },
 "nbformat": 4,
 "nbformat_minor": 4
}
