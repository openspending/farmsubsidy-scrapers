{
 "cells": [
  {
   "cell_type": "code",
   "execution_count": 1,
   "metadata": {},
   "outputs": [],
   "source": [
    "import pandas as pd"
   ]
  },
  {
   "cell_type": "code",
   "execution_count": 2,
   "metadata": {},
   "outputs": [
    {
     "name": "stdout",
     "output_type": "stream",
     "text": [
      "--2023-11-03 14:53:23--  http://cap-payments.defra.gov.uk/Download/2014_All_CAP_Search_Results_Data_P14.xls\n",
      "Auflösen des Hostnamens cap-payments.defra.gov.uk (cap-payments.defra.gov.uk) … 40.127.153.231\n",
      "Verbindungsaufbau zu cap-payments.defra.gov.uk (cap-payments.defra.gov.uk)|40.127.153.231|:80 … verbunden.\n",
      "HTTP-Anforderung gesendet, auf Antwort wird gewartet … 307 Temporary Redirect\n",
      "Platz: https://cap-payments.defra.gov.uk/Download/2014_All_CAP_Search_Results_Data_P14.xls [folgend]\n",
      "--2023-11-03 14:53:23--  https://cap-payments.defra.gov.uk/Download/2014_All_CAP_Search_Results_Data_P14.xls\n",
      "Verbindungsaufbau zu cap-payments.defra.gov.uk (cap-payments.defra.gov.uk)|40.127.153.231|:443 … verbunden.\n",
      "HTTP-Anforderung gesendet, auf Antwort wird gewartet … 200 OK\n",
      "Länge: 33646592 (32M) [application/vnd.ms-excel]\n",
      "Wird in ‘2014_All_CAP_Search_Results_Data_P14.xls’ gespeichert.\n",
      "\n",
      "2014_All_CAP_Search 100%[===================>]  32,09M   884KB/s    in 47s     \n",
      "\n",
      "2023-11-03 14:54:10 (699 KB/s) - ‘2014_All_CAP_Search_Results_Data_P14.xls’ gespeichert [33646592/33646592]\n",
      "\n"
     ]
    }
   ],
   "source": [
    "!wget -nc \"http://cap-payments.defra.gov.uk/Download/2014_All_CAP_Search_Results_Data_P14.xls\""
   ]
  },
  {
   "cell_type": "code",
   "execution_count": 1,
   "metadata": {
    "scrolled": true
   },
   "outputs": [
    {
     "name": "stdout",
     "output_type": "stream",
     "text": [
      "--2016-06-02 12:01:45--  http://cap-payments.defra.gov.uk/Download/2015_All_CAP_Search_Results_Data_P14.xls\n",
      "Resolving cap-payments.defra.gov.uk... 194.1.210.50\n",
      "Connecting to cap-payments.defra.gov.uk|194.1.210.50|:80... connected.\n",
      "HTTP request sent, awaiting response... 200 OK\n",
      "Length: 33282560 (32M) [application/vnd.ms-excel]\n",
      "Saving to: '2015_All_CAP_Search_Results_Data_P14.xls'\n",
      "\n",
      "2015_All_CAP_Search 100%[===================>]  31.74M  1.91MB/s    in 12s     \n",
      "\n",
      "2016-06-02 12:01:57 (2.72 MB/s) - '2015_All_CAP_Search_Results_Data_P14.xls' saved [33282560/33282560]\n",
      "\n"
     ]
    }
   ],
   "source": [
    "!wget -nc \"http://cap-payments.defra.gov.uk/Download/2015_All_CAP_Search_Results_Data_P14.xls\""
   ]
  },
  {
   "cell_type": "code",
   "execution_count": 2,
   "metadata": {},
   "outputs": [
    {
     "name": "stdout",
     "output_type": "stream",
     "text": [
      "--2018-02-05 11:36:33--  http://cap-payments.defra.gov.uk/Download/2016_All_CAP_Search_Results_Data_P14.xlsx\n",
      "Resolving cap-payments.defra.gov.uk... 194.1.210.50\n",
      "Connecting to cap-payments.defra.gov.uk|194.1.210.50|:80... connected.\n",
      "HTTP request sent, awaiting response... 200 OK\n",
      "Length: 15767150 (15M) [application/vnd.openxmlformats-officedocument.spreadsheetml.sheet]\n",
      "Saving to: ‘2016_All_CAP_Search_Results_Data_P14.xlsx’\n",
      "\n",
      "2016_All_CAP_Search 100%[===================>]  15.04M  2.35MB/s    in 7.7s    \n",
      "\n",
      "2018-02-05 11:36:41 (1.96 MB/s) - ‘2016_All_CAP_Search_Results_Data_P14.xlsx’ saved [15767150/15767150]\n",
      "\n"
     ]
    }
   ],
   "source": [
    "!wget -nc \"http://cap-payments.defra.gov.uk/Download/2016_All_CAP_Search_Results_Data_P14.xlsx\""
   ]
  },
  {
   "cell_type": "code",
   "execution_count": 3,
   "metadata": {},
   "outputs": [
    {
     "name": "stdout",
     "output_type": "stream",
     "text": [
      "--2023-11-03 14:54:12--  http://cap-payments.defra.gov.uk/Download/2022_All_CAP_Search_Results_Data_P14.xlsx\n",
      "Auflösen des Hostnamens cap-payments.defra.gov.uk (cap-payments.defra.gov.uk) … 40.127.153.231\n",
      "Verbindungsaufbau zu cap-payments.defra.gov.uk (cap-payments.defra.gov.uk)|40.127.153.231|:80 … verbunden.\n",
      "HTTP-Anforderung gesendet, auf Antwort wird gewartet … 307 Temporary Redirect\n",
      "Platz: https://cap-payments.defra.gov.uk/Download/2022_All_CAP_Search_Results_Data_P14.xlsx [folgend]\n",
      "--2023-11-03 14:54:12--  https://cap-payments.defra.gov.uk/Download/2022_All_CAP_Search_Results_Data_P14.xlsx\n",
      "Verbindungsaufbau zu cap-payments.defra.gov.uk (cap-payments.defra.gov.uk)|40.127.153.231|:443 … verbunden.\n",
      "HTTP-Anforderung gesendet, auf Antwort wird gewartet … 200 OK\n",
      "Länge: 11031657 (11M) [application/vnd.openxmlformats-officedocument.spreadsheetml.sheet]\n",
      "Wird in ‘2022_All_CAP_Search_Results_Data_P14.xlsx’ gespeichert.\n",
      "\n",
      "2022_All_CAP_Search 100%[===================>]  10,52M  1,27MB/s    in 9,0s    \n",
      "\n",
      "2023-11-03 14:54:21 (1,17 MB/s) - ‘2022_All_CAP_Search_Results_Data_P14.xlsx’ gespeichert [11031657/11031657]\n",
      "\n"
     ]
    }
   ],
   "source": [
    "!wget -nc \"http://cap-payments.defra.gov.uk/Download/2022_All_CAP_Search_Results_Data_P14.xlsx\""
   ]
  },
  {
   "cell_type": "code",
   "execution_count": 4,
   "metadata": {},
   "outputs": [],
   "source": [
    "YEAR = 2022"
   ]
  },
  {
   "cell_type": "code",
   "execution_count": 6,
   "metadata": {},
   "outputs": [
    {
     "name": "stdout",
     "output_type": "stream",
     "text": [
      "Collecting openpyxl\n",
      "  Downloading openpyxl-3.1.2-py2.py3-none-any.whl (249 kB)\n",
      "\u001b[2K     \u001b[38;2;114;156;31m━━━━━━━━━━━━━━━━━━━━━━━━━━━━━━━━━━━━━\u001b[0m \u001b[32m250.0/250.0 kB\u001b[0m \u001b[31m195.8 kB/s\u001b[0m eta \u001b[36m0:00:00\u001b[0m[36m0:00:01\u001b[0m[36m0:00:01\u001b[0m:01\u001b[0m\n",
      "\u001b[?25hCollecting et-xmlfile (from openpyxl)\n",
      "  Downloading et_xmlfile-1.1.0-py3-none-any.whl (4.7 kB)\n",
      "Installing collected packages: et-xmlfile, openpyxl\n",
      "Successfully installed et-xmlfile-1.1.0 openpyxl-3.1.2\n"
     ]
    }
   ],
   "source": [
    "!pip install openpyxl"
   ]
  },
  {
   "cell_type": "code",
   "execution_count": 7,
   "metadata": {},
   "outputs": [
    {
     "data": {
      "text/plain": [
       "['DAERA', 'SGRPID', 'WG', 'RPA', 'RPA 2']"
      ]
     },
     "execution_count": 7,
     "metadata": {},
     "output_type": "execute_result"
    }
   ],
   "source": [
    "excel_file = pd.ExcelFile('%s_All_CAP_Search_Results_Data_P14.xlsx' % YEAR)\n",
    "excel_file.sheet_names"
   ]
  },
  {
   "cell_type": "code",
   "execution_count": 8,
   "metadata": {},
   "outputs": [
    {
     "data": {
      "text/html": [
       "<div>\n",
       "<style scoped>\n",
       "    .dataframe tbody tr th:only-of-type {\n",
       "        vertical-align: middle;\n",
       "    }\n",
       "\n",
       "    .dataframe tbody tr th {\n",
       "        vertical-align: top;\n",
       "    }\n",
       "\n",
       "    .dataframe thead th {\n",
       "        text-align: right;\n",
       "    }\n",
       "</style>\n",
       "<table border=\"1\" class=\"dataframe\">\n",
       "  <thead>\n",
       "    <tr style=\"text-align: right;\">\n",
       "      <th></th>\n",
       "      <th>Year</th>\n",
       "      <th>BeneficiaryCode</th>\n",
       "      <th>BeneficiaryName_F201</th>\n",
       "      <th>PostcodePrefix_F202B</th>\n",
       "      <th>TownCity_F202C</th>\n",
       "      <th>PayingAgencyLink</th>\n",
       "      <th>scheme</th>\n",
       "      <th>amount</th>\n",
       "    </tr>\n",
       "  </thead>\n",
       "  <tbody>\n",
       "    <tr>\n",
       "      <th>1058</th>\n",
       "      <td>2022</td>\n",
       "      <td>NaN</td>\n",
       "      <td>BRITISH TRUST FOR ORNITHOLOGY</td>\n",
       "      <td>IP24</td>\n",
       "      <td>ENGLAND</td>\n",
       "      <td>DAERA</td>\n",
       "      <td>Technical assist</td>\n",
       "      <td>91631.32</td>\n",
       "    </tr>\n",
       "    <tr>\n",
       "      <th>1300</th>\n",
       "      <td>2022</td>\n",
       "      <td>NaN</td>\n",
       "      <td>COUNTRYSIDE SERVICES LIMITED</td>\n",
       "      <td>BT71</td>\n",
       "      <td>CO TYRONE</td>\n",
       "      <td>DAERA</td>\n",
       "      <td>Technical assist</td>\n",
       "      <td>225512.40</td>\n",
       "    </tr>\n",
       "    <tr>\n",
       "      <th>1398</th>\n",
       "      <td>2022</td>\n",
       "      <td>NaN</td>\n",
       "      <td>DARD FARM POLICY BRANCH</td>\n",
       "      <td>BT4</td>\n",
       "      <td>BELFAST CO DOWN</td>\n",
       "      <td>DAERA</td>\n",
       "      <td>Technical assist</td>\n",
       "      <td>2904812.46</td>\n",
       "    </tr>\n",
       "    <tr>\n",
       "      <th>195652</th>\n",
       "      <td>2022</td>\n",
       "      <td>NaN</td>\n",
       "      <td>AGHYARAN GAA CLUB</td>\n",
       "      <td>BT81</td>\n",
       "      <td>CO.TYRONE</td>\n",
       "      <td>DAERA</td>\n",
       "      <td>Support for Leader local development</td>\n",
       "      <td>30725.22</td>\n",
       "    </tr>\n",
       "    <tr>\n",
       "      <th>195769</th>\n",
       "      <td>2022</td>\n",
       "      <td>NaN</td>\n",
       "      <td>ANTRIM &amp; NEWTOWNABBEY BOROUGH COUNCIL</td>\n",
       "      <td>BT36</td>\n",
       "      <td>CO.ANTRIM</td>\n",
       "      <td>DAERA</td>\n",
       "      <td>Support for Leader local development</td>\n",
       "      <td>188992.88</td>\n",
       "    </tr>\n",
       "  </tbody>\n",
       "</table>\n",
       "</div>"
      ],
      "text/plain": [
       "        Year  BeneficiaryCode                   BeneficiaryName_F201  \\\n",
       "1058    2022              NaN          BRITISH TRUST FOR ORNITHOLOGY   \n",
       "1300    2022              NaN           COUNTRYSIDE SERVICES LIMITED   \n",
       "1398    2022              NaN                DARD FARM POLICY BRANCH   \n",
       "195652  2022              NaN                      AGHYARAN GAA CLUB   \n",
       "195769  2022              NaN  ANTRIM & NEWTOWNABBEY BOROUGH COUNCIL   \n",
       "\n",
       "       PostcodePrefix_F202B   TownCity_F202C PayingAgencyLink  \\\n",
       "1058                   IP24          ENGLAND            DAERA   \n",
       "1300                   BT71        CO TYRONE            DAERA   \n",
       "1398                   BT4   BELFAST CO DOWN            DAERA   \n",
       "195652                 BT81        CO.TYRONE            DAERA   \n",
       "195769                 BT36        CO.ANTRIM            DAERA   \n",
       "\n",
       "                                      scheme      amount  \n",
       "1058                        Technical assist    91631.32  \n",
       "1300                        Technical assist   225512.40  \n",
       "1398                        Technical assist  2904812.46  \n",
       "195652  Support for Leader local development    30725.22  \n",
       "195769  Support for Leader local development   188992.88  "
      ]
     },
     "execution_count": 8,
     "metadata": {},
     "output_type": "execute_result"
    }
   ],
   "source": [
    "id_vars = ['Year', 'BeneficiaryCode', 'BeneficiaryName_F201',\n",
    "       'PostcodePrefix_F202B', 'TownCity_F202C',\n",
    "#        'OtherEAGFTotal', 'DirectEAGFTotal', 'RuralDevelopmentTotal', 'Total',\n",
    "        'PayingAgencyLink']\n",
    "\n",
    "\n",
    "def get_melted_df(excel_file, sheet_name):\n",
    "    df_raw = excel_file.parse(sheet_name)\n",
    "    df_raw = df_raw[df_raw['Year'].notnull()]\n",
    "    all_columns = list(df_raw.columns)\n",
    "    value_vars = list(set(all_columns) - set(id_vars))\n",
    "    df_raw = df_raw.rename(columns={x: x.strip() for x in value_vars})\n",
    "    value_vars = [v.strip() for v in value_vars]\n",
    "    df = pd.melt(df_raw, id_vars=id_vars, value_vars=value_vars, var_name='scheme', value_name='amount')\n",
    "    df = df[df['amount'].notnull()]\n",
    "    return df\n",
    "\n",
    "df = pd.concat([get_melted_df(excel_file, sheet) for sheet in excel_file.sheet_names])\n",
    "df.head()"
   ]
  },
  {
   "cell_type": "code",
   "execution_count": 10,
   "metadata": {},
   "outputs": [
    {
     "data": {
      "text/html": [
       "<div>\n",
       "<style scoped>\n",
       "    .dataframe tbody tr th:only-of-type {\n",
       "        vertical-align: middle;\n",
       "    }\n",
       "\n",
       "    .dataframe tbody tr th {\n",
       "        vertical-align: top;\n",
       "    }\n",
       "\n",
       "    .dataframe thead th {\n",
       "        text-align: right;\n",
       "    }\n",
       "</style>\n",
       "<table border=\"1\" class=\"dataframe\">\n",
       "  <thead>\n",
       "    <tr style=\"text-align: right;\">\n",
       "      <th></th>\n",
       "      <th>year</th>\n",
       "      <th>recipient_id</th>\n",
       "      <th>recipient_name</th>\n",
       "      <th>recipient_postcode</th>\n",
       "      <th>recipient_location</th>\n",
       "      <th>agency</th>\n",
       "      <th>scheme</th>\n",
       "      <th>amount</th>\n",
       "      <th>country</th>\n",
       "      <th>currency</th>\n",
       "    </tr>\n",
       "  </thead>\n",
       "  <tbody>\n",
       "    <tr>\n",
       "      <th>1058</th>\n",
       "      <td>2022</td>\n",
       "      <td>NaN</td>\n",
       "      <td>BRITISH TRUST FOR ORNITHOLOGY</td>\n",
       "      <td>IP24</td>\n",
       "      <td>ENGLAND</td>\n",
       "      <td>DAERA</td>\n",
       "      <td>Technical assist</td>\n",
       "      <td>91631.32</td>\n",
       "      <td>GB</td>\n",
       "      <td>GBP</td>\n",
       "    </tr>\n",
       "    <tr>\n",
       "      <th>1300</th>\n",
       "      <td>2022</td>\n",
       "      <td>NaN</td>\n",
       "      <td>COUNTRYSIDE SERVICES LIMITED</td>\n",
       "      <td>BT71</td>\n",
       "      <td>CO TYRONE</td>\n",
       "      <td>DAERA</td>\n",
       "      <td>Technical assist</td>\n",
       "      <td>225512.40</td>\n",
       "      <td>GB</td>\n",
       "      <td>GBP</td>\n",
       "    </tr>\n",
       "    <tr>\n",
       "      <th>1398</th>\n",
       "      <td>2022</td>\n",
       "      <td>NaN</td>\n",
       "      <td>DARD FARM POLICY BRANCH</td>\n",
       "      <td>BT4</td>\n",
       "      <td>BELFAST CO DOWN</td>\n",
       "      <td>DAERA</td>\n",
       "      <td>Technical assist</td>\n",
       "      <td>2904812.46</td>\n",
       "      <td>GB</td>\n",
       "      <td>GBP</td>\n",
       "    </tr>\n",
       "    <tr>\n",
       "      <th>195652</th>\n",
       "      <td>2022</td>\n",
       "      <td>NaN</td>\n",
       "      <td>AGHYARAN GAA CLUB</td>\n",
       "      <td>BT81</td>\n",
       "      <td>CO.TYRONE</td>\n",
       "      <td>DAERA</td>\n",
       "      <td>Support for Leader local development</td>\n",
       "      <td>30725.22</td>\n",
       "      <td>GB</td>\n",
       "      <td>GBP</td>\n",
       "    </tr>\n",
       "    <tr>\n",
       "      <th>195769</th>\n",
       "      <td>2022</td>\n",
       "      <td>NaN</td>\n",
       "      <td>ANTRIM &amp; NEWTOWNABBEY BOROUGH COUNCIL</td>\n",
       "      <td>BT36</td>\n",
       "      <td>CO.ANTRIM</td>\n",
       "      <td>DAERA</td>\n",
       "      <td>Support for Leader local development</td>\n",
       "      <td>188992.88</td>\n",
       "      <td>GB</td>\n",
       "      <td>GBP</td>\n",
       "    </tr>\n",
       "  </tbody>\n",
       "</table>\n",
       "</div>"
      ],
      "text/plain": [
       "        year  recipient_id                         recipient_name  \\\n",
       "1058    2022           NaN          BRITISH TRUST FOR ORNITHOLOGY   \n",
       "1300    2022           NaN           COUNTRYSIDE SERVICES LIMITED   \n",
       "1398    2022           NaN                DARD FARM POLICY BRANCH   \n",
       "195652  2022           NaN                      AGHYARAN GAA CLUB   \n",
       "195769  2022           NaN  ANTRIM & NEWTOWNABBEY BOROUGH COUNCIL   \n",
       "\n",
       "       recipient_postcode recipient_location agency  \\\n",
       "1058                 IP24            ENGLAND  DAERA   \n",
       "1300                 BT71          CO TYRONE  DAERA   \n",
       "1398                  BT4    BELFAST CO DOWN  DAERA   \n",
       "195652               BT81          CO.TYRONE  DAERA   \n",
       "195769               BT36          CO.ANTRIM  DAERA   \n",
       "\n",
       "                                      scheme      amount country currency  \n",
       "1058                        Technical assist    91631.32      GB      GBP  \n",
       "1300                        Technical assist   225512.40      GB      GBP  \n",
       "1398                        Technical assist  2904812.46      GB      GBP  \n",
       "195652  Support for Leader local development    30725.22      GB      GBP  \n",
       "195769  Support for Leader local development   188992.88      GB      GBP  "
      ]
     },
     "execution_count": 10,
     "metadata": {},
     "output_type": "execute_result"
    }
   ],
   "source": [
    "df = df.rename(columns={\n",
    "    'Year': 'year',\n",
    "    'BeneficiaryCode': 'recipient_id',\n",
    "    'BeneficiaryName_F201': 'recipient_name',\n",
    "    'PostcodePrefix_F202B': 'recipient_postcode',\n",
    "    'TownCity_F202C': 'recipient_location',\n",
    "    'PayingAgencyLink': 'agency',\n",
    "})\n",
    "df['country'] = 'GB'\n",
    "df['currency'] = 'GBP'\n",
    "df['year'] = df['year'].astype('int')\n",
    "df['recipient_name'] = df['recipient_name'].str.strip()\n",
    "df['recipient_postcode'] = df['recipient_postcode'].str.strip()\n",
    "df['recipient_location'] = df['recipient_location'].str.strip()\n",
    "df.loc[df['recipient_id'].notnull(), 'recipient_name'] = None\n",
    "#df.set_value(df['recipient_id'].notnull(), 'recipient_name', None)\n",
    "df.head()"
   ]
  },
  {
   "cell_type": "code",
   "execution_count": 11,
   "metadata": {},
   "outputs": [
    {
     "data": {
      "text/html": [
       "<div>\n",
       "<style scoped>\n",
       "    .dataframe tbody tr th:only-of-type {\n",
       "        vertical-align: middle;\n",
       "    }\n",
       "\n",
       "    .dataframe tbody tr th {\n",
       "        vertical-align: top;\n",
       "    }\n",
       "\n",
       "    .dataframe thead th {\n",
       "        text-align: right;\n",
       "    }\n",
       "</style>\n",
       "<table border=\"1\" class=\"dataframe\">\n",
       "  <thead>\n",
       "    <tr style=\"text-align: right;\">\n",
       "      <th></th>\n",
       "      <th>year</th>\n",
       "      <th>recipient_id</th>\n",
       "      <th>recipient_name</th>\n",
       "      <th>recipient_postcode</th>\n",
       "      <th>recipient_location</th>\n",
       "      <th>agency</th>\n",
       "      <th>scheme</th>\n",
       "      <th>amount</th>\n",
       "      <th>country</th>\n",
       "      <th>currency</th>\n",
       "    </tr>\n",
       "  </thead>\n",
       "  <tbody>\n",
       "    <tr>\n",
       "      <th>1058</th>\n",
       "      <td>2022</td>\n",
       "      <td>GB-IP24-BRITISH TRUST FOR ORNITHOLOGY</td>\n",
       "      <td>BRITISH TRUST FOR ORNITHOLOGY</td>\n",
       "      <td>IP24</td>\n",
       "      <td>ENGLAND</td>\n",
       "      <td>DAERA</td>\n",
       "      <td>Technical assist</td>\n",
       "      <td>91631.32</td>\n",
       "      <td>GB</td>\n",
       "      <td>GBP</td>\n",
       "    </tr>\n",
       "    <tr>\n",
       "      <th>1300</th>\n",
       "      <td>2022</td>\n",
       "      <td>GB-BT71-COUNTRYSIDE SERVICES LIMITED</td>\n",
       "      <td>COUNTRYSIDE SERVICES LIMITED</td>\n",
       "      <td>BT71</td>\n",
       "      <td>CO TYRONE</td>\n",
       "      <td>DAERA</td>\n",
       "      <td>Technical assist</td>\n",
       "      <td>225512.40</td>\n",
       "      <td>GB</td>\n",
       "      <td>GBP</td>\n",
       "    </tr>\n",
       "    <tr>\n",
       "      <th>1398</th>\n",
       "      <td>2022</td>\n",
       "      <td>GB-BT4-DARD FARM POLICY BRANCH</td>\n",
       "      <td>DARD FARM POLICY BRANCH</td>\n",
       "      <td>BT4</td>\n",
       "      <td>BELFAST CO DOWN</td>\n",
       "      <td>DAERA</td>\n",
       "      <td>Technical assist</td>\n",
       "      <td>2904812.46</td>\n",
       "      <td>GB</td>\n",
       "      <td>GBP</td>\n",
       "    </tr>\n",
       "    <tr>\n",
       "      <th>195652</th>\n",
       "      <td>2022</td>\n",
       "      <td>GB-BT81-AGHYARAN GAA CLUB</td>\n",
       "      <td>AGHYARAN GAA CLUB</td>\n",
       "      <td>BT81</td>\n",
       "      <td>CO.TYRONE</td>\n",
       "      <td>DAERA</td>\n",
       "      <td>Support for Leader local development</td>\n",
       "      <td>30725.22</td>\n",
       "      <td>GB</td>\n",
       "      <td>GBP</td>\n",
       "    </tr>\n",
       "    <tr>\n",
       "      <th>195769</th>\n",
       "      <td>2022</td>\n",
       "      <td>GB-BT36-ANTRIM &amp; NEWTOWNABBEY BOROUGH COUNCIL</td>\n",
       "      <td>ANTRIM &amp; NEWTOWNABBEY BOROUGH COUNCIL</td>\n",
       "      <td>BT36</td>\n",
       "      <td>CO.ANTRIM</td>\n",
       "      <td>DAERA</td>\n",
       "      <td>Support for Leader local development</td>\n",
       "      <td>188992.88</td>\n",
       "      <td>GB</td>\n",
       "      <td>GBP</td>\n",
       "    </tr>\n",
       "  </tbody>\n",
       "</table>\n",
       "</div>"
      ],
      "text/plain": [
       "        year                                   recipient_id  \\\n",
       "1058    2022          GB-IP24-BRITISH TRUST FOR ORNITHOLOGY   \n",
       "1300    2022           GB-BT71-COUNTRYSIDE SERVICES LIMITED   \n",
       "1398    2022                 GB-BT4-DARD FARM POLICY BRANCH   \n",
       "195652  2022                      GB-BT81-AGHYARAN GAA CLUB   \n",
       "195769  2022  GB-BT36-ANTRIM & NEWTOWNABBEY BOROUGH COUNCIL   \n",
       "\n",
       "                               recipient_name recipient_postcode  \\\n",
       "1058            BRITISH TRUST FOR ORNITHOLOGY               IP24   \n",
       "1300             COUNTRYSIDE SERVICES LIMITED               BT71   \n",
       "1398                  DARD FARM POLICY BRANCH                BT4   \n",
       "195652                      AGHYARAN GAA CLUB               BT81   \n",
       "195769  ANTRIM & NEWTOWNABBEY BOROUGH COUNCIL               BT36   \n",
       "\n",
       "       recipient_location agency                                scheme  \\\n",
       "1058              ENGLAND  DAERA                      Technical assist   \n",
       "1300            CO TYRONE  DAERA                      Technical assist   \n",
       "1398      BELFAST CO DOWN  DAERA                      Technical assist   \n",
       "195652          CO.TYRONE  DAERA  Support for Leader local development   \n",
       "195769          CO.ANTRIM  DAERA  Support for Leader local development   \n",
       "\n",
       "            amount country currency  \n",
       "1058      91631.32      GB      GBP  \n",
       "1300     225512.40      GB      GBP  \n",
       "1398    2904812.46      GB      GBP  \n",
       "195652    30725.22      GB      GBP  \n",
       "195769   188992.88      GB      GBP  "
      ]
     },
     "execution_count": 11,
     "metadata": {},
     "output_type": "execute_result"
    }
   ],
   "source": [
    "def set_recipient_id(row):\n",
    "    if pd.isnull(row['recipient_id']):\n",
    "        row['recipient_id'] = 'GB-%s-%s' % (row['recipient_postcode'], row['recipient_name'])\n",
    "    else:\n",
    "        row['recipient_id'] = 'GB-%s' % int(row['recipient_id'])\n",
    "    return row\n",
    "\n",
    "df = df.apply(set_recipient_id, axis=1)\n",
    "df.head()"
   ]
  },
  {
   "cell_type": "code",
   "execution_count": 12,
   "metadata": {},
   "outputs": [
    {
     "data": {
      "text/plain": [
       "846114"
      ]
     },
     "execution_count": 12,
     "metadata": {},
     "output_type": "execute_result"
    }
   ],
   "source": [
    "len(df)"
   ]
  },
  {
   "cell_type": "code",
   "execution_count": 13,
   "metadata": {},
   "outputs": [
    {
     "data": {
      "text/plain": [
       "scheme\n",
       "Basic payment scheme - UK funded                                                    143841\n",
       "Agri-environment-climate                                                             26305\n",
       "Greening - UK payments - UK funded                                                   18848\n",
       "Redistributive payment - UK funded                                                   16313\n",
       "Payments to areas facing natural constraints - UK funded                             10713\n",
       "Other direct aids - UK funded                                                         7293\n",
       "Investment in forest area development and viability                                   6306\n",
       "Investments in physical assets                                                        4751\n",
       "Young farmers - UK funded                                                             4277\n",
       "Investments in physical assets - UK funded                                            3518\n",
       "Organic farming                                                                       1740\n",
       "Refunds for pigmeat                                                                   1528\n",
       "Forest environmental, climate and conservation - UK funded                             806\n",
       "Investment in forest area development and viability - UK funded                        474\n",
       "Payments to areas facing natural and other specific constraints                        341\n",
       "Support for Leader local development                                                   317\n",
       "Reimbursement of financial discipline                                                  308\n",
       "School Milk scheme – Regulation 657/2008                                               246\n",
       "Farm and business development                                                          208\n",
       "Cooperation                                                                            179\n",
       "Basic services and village renewal in rural areas                                      165\n",
       "Forest environmental, climate and conservation                                         157\n",
       "Skills acquisition, animation and implementation of local development strategies        99\n",
       "Farm and business development - UK funded                                               67\n",
       "Aid in fruit and vegetables sector - UK funded                                          34\n",
       "Knowledge transfer and information actions                                              11\n",
       "Advisory services, farm management and farm relief services                              7\n",
       "Technical assist                                                                         5\n",
       "School milk scheme - UK funded                                                           5\n",
       "Knowledge transfer and information actions - UK funded                                   3\n",
       "Cooperation - UK funded                                                                  3\n",
       "Single payment scheme - UK funded                                                        3\n",
       "Agri-environment-climate - UK funded                                                     2\n",
       "Advisory, farm mangement and farm relief services - UK funded                            2\n",
       "Aid for public storage - UK funded                                                       2\n",
       "Redistributive payment                                                                   2\n",
       "Basic services and village renewal in rural areas - UK funded                            1\n",
       "Beekeeping - UK funded                                                                   1\n",
       "Single payment scheme                                                                    1\n",
       "Name: count, dtype: int64"
      ]
     },
     "execution_count": 13,
     "metadata": {},
     "output_type": "execute_result"
    }
   ],
   "source": [
    "df = df[~df['scheme'].isin([x for x in df['scheme'].value_counts().index if x.endswith('Total')])]\n",
    "df['scheme'].value_counts()"
   ]
  },
  {
   "cell_type": "code",
   "execution_count": 14,
   "metadata": {},
   "outputs": [],
   "source": [
    "df.to_csv('gb_%s.csv.gz' % YEAR, index=False, encoding='utf-8', compression='gzip')"
   ]
  },
  {
   "cell_type": "code",
   "execution_count": null,
   "metadata": {},
   "outputs": [],
   "source": []
  }
 ],
 "metadata": {
  "kernelspec": {
   "display_name": "Python 3 (ipykernel)",
   "language": "python",
   "name": "python3"
  },
  "language_info": {
   "codemirror_mode": {
    "name": "ipython",
    "version": 3
   },
   "file_extension": ".py",
   "mimetype": "text/x-python",
   "name": "python",
   "nbconvert_exporter": "python",
   "pygments_lexer": "ipython3",
   "version": "3.9.18"
  }
 },
 "nbformat": 4,
 "nbformat_minor": 4
}
