{
 "cells": [
  {
   "cell_type": "code",
   "execution_count": 1,
   "metadata": {},
   "outputs": [],
   "source": [
    "!mkdir downloads"
   ]
  },
  {
   "cell_type": "code",
   "execution_count": 2,
   "metadata": {},
   "outputs": [
    {
     "name": "stdout",
     "output_type": "stream",
     "text": [
      "--2017-05-17 20:51:14--  https://www.fega.es/sites/default/files/files/Beneficiaries_agricultural_district_financial_year_2015.zip\n",
      "Resolving www.fega.es... 93.188.52.193\n",
      "Connecting to www.fega.es|93.188.52.193|:443... connected.\n",
      "HTTP request sent, awaiting response... 200 OK\n",
      "Length: 19994764 (19M) [application/zip]\n",
      "Saving to: ‘downloads/es_2015.zip’\n",
      "\n",
      "downloads/es_2015.z 100%[===================>]  19.07M   363KB/s    in 59s     \n",
      "\n",
      "2017-05-17 20:52:13 (332 KB/s) - ‘downloads/es_2015.zip’ saved [19994764/19994764]\n",
      "\n"
     ]
    }
   ],
   "source": [
    "!wget -O downloads/es_2015.zip -nc \"https://www.fega.es/sites/default/files/files/Beneficiaries_agricultural_district_financial_year_2015.zip\""
   ]
  },
  {
   "cell_type": "code",
   "execution_count": 7,
   "metadata": {},
   "outputs": [
    {
     "name": "stdout",
     "output_type": "stream",
     "text": [
      "--2018-06-15 17:34:29--  https://www.fega.es/sites/default/files/files/Beneficiaries_agricultural_district_financial_year_2016.zip\n",
      "Resolving www.fega.es (www.fega.es)... 93.188.52.193\n",
      "Connecting to www.fega.es (www.fega.es)|93.188.52.193|:443... connected.\n",
      "HTTP request sent, awaiting response... 200 OK\n",
      "Length: 23900577 (23M) [application/zip]\n",
      "Saving to: ‘downloads/es_2016.zip’\n",
      "\n",
      "downloads/es_2016.z 100%[===================>]  22.79M   369KB/s    in 54s     \n",
      "\n",
      "2018-06-15 17:35:23 (435 KB/s) - ‘downloads/es_2016.zip’ saved [23900577/23900577]\n",
      "\n"
     ]
    }
   ],
   "source": [
    "!wget -O downloads/es_2016.zip -nc \"https://www.fega.es/sites/default/files/files/Beneficiaries_agricultural_district_financial_year_2016.zip\""
   ]
  },
  {
   "cell_type": "code",
   "execution_count": 28,
   "metadata": {},
   "outputs": [
    {
     "name": "stdout",
     "output_type": "stream",
     "text": [
      "--2018-06-15 18:25:13--  http://www.fega.es/sites/default/files/files/Beneficiarios_comarca_ejercicio_2017.zip\n",
      "Resolving www.fega.es (www.fega.es)... 93.188.52.193\n",
      "Connecting to www.fega.es (www.fega.es)|93.188.52.193|:80... connected.\n",
      "HTTP request sent, awaiting response... 200 OK\n",
      "Length: 22624581 (22M) [application/zip]\n",
      "Saving to: ‘downloads/es_2017.zip’\n",
      "\n",
      "downloads/es_2017.z 100%[===================>]  21.58M  1.05MB/s    in 22s     \n",
      "\n",
      "2018-06-15 18:25:35 (1011 KB/s) - ‘downloads/es_2017.zip’ saved [22624581/22624581]\n",
      "\n"
     ]
    }
   ],
   "source": [
    "!wget -O downloads/es_2017.zip -nc \"http://www.fega.es/sites/default/files/files/Beneficiarios_comarca_ejercicio_2017.zip\""
   ]
  },
  {
   "cell_type": "code",
   "execution_count": 1,
   "metadata": {},
   "outputs": [
    {
     "name": "stdout",
     "output_type": "stream",
     "text": [
      "--2019-11-12 21:50:09--  http://www.fega.es/sites/default/files/files/Beneficiarios_comarca_ejercicio_2018.zip\n",
      "Resolving www.fega.es (www.fega.es)... 93.188.52.193\n",
      "Connecting to www.fega.es (www.fega.es)|93.188.52.193|:80... connected.\n",
      "HTTP request sent, awaiting response... 302 Found\n",
      "Location: https://www.fega.es/sites/default/files/files/Beneficiarios_comarca_ejercicio_2018.zip [following]\n",
      "--2019-11-12 21:50:10--  https://www.fega.es/sites/default/files/files/Beneficiarios_comarca_ejercicio_2018.zip\n",
      "Connecting to www.fega.es (www.fega.es)|93.188.52.193|:443... connected.\n",
      "HTTP request sent, awaiting response... 200 OK\n",
      "Length: 22082992 (21M) [application/zip]\n",
      "Saving to: ‘downloads/es_2018.zip’\n",
      "\n",
      "downloads/es_2018.z 100%[===================>]  21.06M  1.62MB/s    in 13s     \n",
      "\n",
      "2019-11-12 21:50:23 (1.60 MB/s) - ‘downloads/es_2018.zip’ saved [22082992/22082992]\n",
      "\n"
     ]
    }
   ],
   "source": [
    "!wget -O downloads/es_2018.zip -nc \"http://www.fega.es/sites/default/files/files/Beneficiarios_comarca_ejercicio_2018.zip\""
   ]
  },
  {
   "cell_type": "code",
   "execution_count": 8,
   "metadata": {},
   "outputs": [
    {
     "name": "stdout",
     "output_type": "stream",
     "text": [
      "--2023-11-03 13:34:38--  https://www.fega.gob.es/sites/default/files/files/document/Beneficiarios_comarca_ejercicio_financiero_2022_0.zip\n",
      "Auflösen des Hostnamens www.fega.gob.es (www.fega.gob.es) … 93.188.52.193\n",
      "Verbindungsaufbau zu www.fega.gob.es (www.fega.gob.es)|93.188.52.193|:443 … verbunden.\n",
      "WARNUNG: Das Zertifikat von www.fega.gob.es kann nicht geprüft werden, ausgestellt von ‘CN=AC Firmaprofesional - Secure Web 2022,OU=Security Services,organizationIdentifier=VATES-A62634068,O=Firmaprofesional S.A.,C=ES’:.\n",
      "  Die Autorität des Zertifikatausstellers kann lokal nicht geprüft werden.\n",
      "HTTP-Anforderung gesendet, auf Antwort wird gewartet … 200 OK\n",
      "Länge: 30158332 (29M) [application/zip]\n",
      "Wird in ‘downloads/es_2022.zip’ gespeichert.\n",
      "\n",
      "downloads/es_2022.z 100%[===================>]  28,76M   385KB/s    in 42s     \n",
      "\n",
      "2023-11-03 13:35:21 (696 KB/s) - ‘downloads/es_2022.zip’ gespeichert [30158332/30158332]\n",
      "\n"
     ]
    }
   ],
   "source": [
    "!wget --no-check-certificate -O downloads/es_2022.zip \"https://www.fega.gob.es/sites/default/files/files/document/Beneficiarios_comarca_ejercicio_financiero_2022_0.zip\""
   ]
  },
  {
   "cell_type": "code",
   "execution_count": 9,
   "metadata": {},
   "outputs": [],
   "source": [
    "import pandas as pd"
   ]
  },
  {
   "cell_type": "code",
   "execution_count": 10,
   "metadata": {},
   "outputs": [],
   "source": [
    "YEAR = 2022"
   ]
  },
  {
   "cell_type": "code",
   "execution_count": 48,
   "metadata": {},
   "outputs": [
    {
     "data": {
      "text/html": [
       "<div>\n",
       "<style scoped>\n",
       "    .dataframe tbody tr th:only-of-type {\n",
       "        vertical-align: middle;\n",
       "    }\n",
       "\n",
       "    .dataframe tbody tr th {\n",
       "        vertical-align: top;\n",
       "    }\n",
       "\n",
       "    .dataframe thead th {\n",
       "        text-align: right;\n",
       "    }\n",
       "</style>\n",
       "<table border=\"1\" class=\"dataframe\">\n",
       "  <thead>\n",
       "    <tr style=\"text-align: right;\">\n",
       "      <th></th>\n",
       "      <th>BENEFICIARIO</th>\n",
       "      <th>PROVINCIA</th>\n",
       "      <th>MUNICIPIO</th>\n",
       "      <th>MEDIDA</th>\n",
       "      <th>IMPORTE</th>\n",
       "      <th>year</th>\n",
       "    </tr>\n",
       "  </thead>\n",
       "  <tbody>\n",
       "    <tr>\n",
       "      <th>0</th>\n",
       "      <td>A BOUCIÑA S.C.</td>\n",
       "      <td>A Coruña</td>\n",
       "      <td>1502 - OCCIDENTAL</td>\n",
       "      <td>II.1  Régimen de pago básico</td>\n",
       "      <td>10575,45</td>\n",
       "      <td>2022</td>\n",
       "    </tr>\n",
       "    <tr>\n",
       "      <th>1</th>\n",
       "      <td>A BOUCIÑA S.C.</td>\n",
       "      <td>A Coruña</td>\n",
       "      <td>1502 - OCCIDENTAL</td>\n",
       "      <td>IV/A.18  Ayuda a zonas con limitaciones natura...</td>\n",
       "      <td>2653,2</td>\n",
       "      <td>2022</td>\n",
       "    </tr>\n",
       "    <tr>\n",
       "      <th>2</th>\n",
       "      <td>A BOUCIÑA S.C.</td>\n",
       "      <td>A Coruña</td>\n",
       "      <td>1502 - OCCIDENTAL</td>\n",
       "      <td>II.4  Pago para prácticas agrícolas beneficios...</td>\n",
       "      <td>5525,06</td>\n",
       "      <td>2022</td>\n",
       "    </tr>\n",
       "    <tr>\n",
       "      <th>3</th>\n",
       "      <td>A BOUCIÑA S.C.</td>\n",
       "      <td>A Coruña</td>\n",
       "      <td>1502 - OCCIDENTAL</td>\n",
       "      <td>II.10  Reembolso de créditos prorrogados del e...</td>\n",
       "      <td>607,66</td>\n",
       "      <td>2022</td>\n",
       "    </tr>\n",
       "    <tr>\n",
       "      <th>4</th>\n",
       "      <td>A BOUCIÑA S.C.</td>\n",
       "      <td>A Coruña</td>\n",
       "      <td>1502 - OCCIDENTAL</td>\n",
       "      <td>II.7  Ayuda asociada voluntaria</td>\n",
       "      <td>11994,6</td>\n",
       "      <td>2022</td>\n",
       "    </tr>\n",
       "  </tbody>\n",
       "</table>\n",
       "</div>"
      ],
      "text/plain": [
       "     BENEFICIARIO PROVINCIA          MUNICIPIO  \\\n",
       "0  A BOUCIÑA S.C.  A Coruña  1502 - OCCIDENTAL   \n",
       "1  A BOUCIÑA S.C.  A Coruña  1502 - OCCIDENTAL   \n",
       "2  A BOUCIÑA S.C.  A Coruña  1502 - OCCIDENTAL   \n",
       "3  A BOUCIÑA S.C.  A Coruña  1502 - OCCIDENTAL   \n",
       "4  A BOUCIÑA S.C.  A Coruña  1502 - OCCIDENTAL   \n",
       "\n",
       "                                              MEDIDA   IMPORTE  year  \n",
       "0                       II.1  Régimen de pago básico  10575,45  2022  \n",
       "1  IV/A.18  Ayuda a zonas con limitaciones natura...    2653,2  2022  \n",
       "2  II.4  Pago para prácticas agrícolas beneficios...   5525,06  2022  \n",
       "3  II.10  Reembolso de créditos prorrogados del e...    607,66  2022  \n",
       "4                    II.7  Ayuda asociada voluntaria   11994,6  2022  "
      ]
     },
     "execution_count": 48,
     "metadata": {},
     "output_type": "execute_result"
    }
   ],
   "source": [
    "df = pd.read_csv('downloads/es_{YEAR}.zip'.format(YEAR=YEAR), delimiter=';', encoding='latin1', compression='zip', index_col=False)\n",
    "df['year'] = YEAR\n",
    "df = df.rename(columns={'COMARCA': 'MUNICIPIO'})\n",
    "df.head()"
   ]
  },
  {
   "cell_type": "code",
   "execution_count": 49,
   "metadata": {},
   "outputs": [
    {
     "data": {
      "text/plain": [
       "2734536"
      ]
     },
     "execution_count": 49,
     "metadata": {},
     "output_type": "execute_result"
    }
   ],
   "source": [
    "len(df)"
   ]
  },
  {
   "cell_type": "code",
   "execution_count": 50,
   "metadata": {},
   "outputs": [
    {
     "data": {
      "text/plain": [
       "BENEFICIARIO    object\n",
       "PROVINCIA       object\n",
       "MUNICIPIO       object\n",
       "MEDIDA          object\n",
       "IMPORTE         object\n",
       "year             int64\n",
       "dtype: object"
      ]
     },
     "execution_count": 50,
     "metadata": {},
     "output_type": "execute_result"
    }
   ],
   "source": [
    "df.dtypes"
   ]
  },
  {
   "cell_type": "code",
   "execution_count": 51,
   "metadata": {},
   "outputs": [
    {
     "data": {
      "text/html": [
       "<div>\n",
       "<style scoped>\n",
       "    .dataframe tbody tr th:only-of-type {\n",
       "        vertical-align: middle;\n",
       "    }\n",
       "\n",
       "    .dataframe tbody tr th {\n",
       "        vertical-align: top;\n",
       "    }\n",
       "\n",
       "    .dataframe thead th {\n",
       "        text-align: right;\n",
       "    }\n",
       "</style>\n",
       "<table border=\"1\" class=\"dataframe\">\n",
       "  <thead>\n",
       "    <tr style=\"text-align: right;\">\n",
       "      <th></th>\n",
       "      <th>BENEFICIARIO</th>\n",
       "      <th>PROVINCIA</th>\n",
       "      <th>MUNICIPIO</th>\n",
       "      <th>MEDIDA</th>\n",
       "      <th>IMPORTE</th>\n",
       "      <th>year</th>\n",
       "    </tr>\n",
       "  </thead>\n",
       "  <tbody>\n",
       "    <tr>\n",
       "      <th>0</th>\n",
       "      <td>A BOUCIÑA S.C.</td>\n",
       "      <td>A Coruña</td>\n",
       "      <td>1502 - OCCIDENTAL</td>\n",
       "      <td>II.1  Régimen de pago básico</td>\n",
       "      <td>10575,45</td>\n",
       "      <td>2022</td>\n",
       "    </tr>\n",
       "    <tr>\n",
       "      <th>1</th>\n",
       "      <td>A BOUCIÑA S.C.</td>\n",
       "      <td>A Coruña</td>\n",
       "      <td>1502 - OCCIDENTAL</td>\n",
       "      <td>IV/A.18  Ayuda a zonas con limitaciones natura...</td>\n",
       "      <td>2653,2</td>\n",
       "      <td>2022</td>\n",
       "    </tr>\n",
       "    <tr>\n",
       "      <th>2</th>\n",
       "      <td>A BOUCIÑA S.C.</td>\n",
       "      <td>A Coruña</td>\n",
       "      <td>1502 - OCCIDENTAL</td>\n",
       "      <td>II.4  Pago para prácticas agrícolas beneficios...</td>\n",
       "      <td>5525,06</td>\n",
       "      <td>2022</td>\n",
       "    </tr>\n",
       "    <tr>\n",
       "      <th>3</th>\n",
       "      <td>A BOUCIÑA S.C.</td>\n",
       "      <td>A Coruña</td>\n",
       "      <td>1502 - OCCIDENTAL</td>\n",
       "      <td>II.10  Reembolso de créditos prorrogados del e...</td>\n",
       "      <td>607,66</td>\n",
       "      <td>2022</td>\n",
       "    </tr>\n",
       "    <tr>\n",
       "      <th>4</th>\n",
       "      <td>A BOUCIÑA S.C.</td>\n",
       "      <td>A Coruña</td>\n",
       "      <td>1502 - OCCIDENTAL</td>\n",
       "      <td>II.7  Ayuda asociada voluntaria</td>\n",
       "      <td>11994,6</td>\n",
       "      <td>2022</td>\n",
       "    </tr>\n",
       "  </tbody>\n",
       "</table>\n",
       "</div>"
      ],
      "text/plain": [
       "     BENEFICIARIO PROVINCIA          MUNICIPIO  \\\n",
       "0  A BOUCIÑA S.C.  A Coruña  1502 - OCCIDENTAL   \n",
       "1  A BOUCIÑA S.C.  A Coruña  1502 - OCCIDENTAL   \n",
       "2  A BOUCIÑA S.C.  A Coruña  1502 - OCCIDENTAL   \n",
       "3  A BOUCIÑA S.C.  A Coruña  1502 - OCCIDENTAL   \n",
       "4  A BOUCIÑA S.C.  A Coruña  1502 - OCCIDENTAL   \n",
       "\n",
       "                                              MEDIDA   IMPORTE  year  \n",
       "0                       II.1  Régimen de pago básico  10575,45  2022  \n",
       "1  IV/A.18  Ayuda a zonas con limitaciones natura...    2653,2  2022  \n",
       "2  II.4  Pago para prácticas agrícolas beneficios...   5525,06  2022  \n",
       "3  II.10  Reembolso de créditos prorrogados del e...    607,66  2022  \n",
       "4                    II.7  Ayuda asociada voluntaria   11994,6  2022  "
      ]
     },
     "execution_count": 51,
     "metadata": {},
     "output_type": "execute_result"
    }
   ],
   "source": [
    "cols = 'BENEFICIARIO\tPROVINCIA\tMUNICIPIO\tMEDIDA'.split()\n",
    "for c in cols:\n",
    "    df[c] = df[c].str.replace(r\"^'(.*)'$\", '\\\\1')\n",
    "df.head()"
   ]
  },
  {
   "cell_type": "code",
   "execution_count": 52,
   "metadata": {},
   "outputs": [
    {
     "data": {
      "text/plain": [
       "2734536"
      ]
     },
     "execution_count": 52,
     "metadata": {},
     "output_type": "execute_result"
    }
   ],
   "source": [
    "len(df)"
   ]
  },
  {
   "cell_type": "code",
   "execution_count": 53,
   "metadata": {},
   "outputs": [],
   "source": [
    "df['amount'] = pd.to_numeric(df['IMPORTE'].str.replace(',','.'))"
   ]
  },
  {
   "cell_type": "code",
   "execution_count": 54,
   "metadata": {},
   "outputs": [
    {
     "data": {
      "text/html": [
       "<div>\n",
       "<style scoped>\n",
       "    .dataframe tbody tr th:only-of-type {\n",
       "        vertical-align: middle;\n",
       "    }\n",
       "\n",
       "    .dataframe tbody tr th {\n",
       "        vertical-align: top;\n",
       "    }\n",
       "\n",
       "    .dataframe thead th {\n",
       "        text-align: right;\n",
       "    }\n",
       "</style>\n",
       "<table border=\"1\" class=\"dataframe\">\n",
       "  <thead>\n",
       "    <tr style=\"text-align: right;\">\n",
       "      <th></th>\n",
       "      <th>BENEFICIARIO</th>\n",
       "      <th>PROVINCIA</th>\n",
       "      <th>MUNICIPIO</th>\n",
       "      <th>MEDIDA</th>\n",
       "      <th>IMPORTE</th>\n",
       "      <th>year</th>\n",
       "      <th>amount</th>\n",
       "      <th>recipient_postcode</th>\n",
       "    </tr>\n",
       "  </thead>\n",
       "  <tbody>\n",
       "    <tr>\n",
       "      <th>0</th>\n",
       "      <td>A BOUCIÑA S.C.</td>\n",
       "      <td>A Coruña</td>\n",
       "      <td>1502 - OCCIDENTAL</td>\n",
       "      <td>II.1  Régimen de pago básico</td>\n",
       "      <td>10575,45</td>\n",
       "      <td>2022</td>\n",
       "      <td>10575.45</td>\n",
       "      <td>1502</td>\n",
       "    </tr>\n",
       "    <tr>\n",
       "      <th>1</th>\n",
       "      <td>A BOUCIÑA S.C.</td>\n",
       "      <td>A Coruña</td>\n",
       "      <td>1502 - OCCIDENTAL</td>\n",
       "      <td>IV/A.18  Ayuda a zonas con limitaciones natura...</td>\n",
       "      <td>2653,2</td>\n",
       "      <td>2022</td>\n",
       "      <td>2653.20</td>\n",
       "      <td>1502</td>\n",
       "    </tr>\n",
       "    <tr>\n",
       "      <th>2</th>\n",
       "      <td>A BOUCIÑA S.C.</td>\n",
       "      <td>A Coruña</td>\n",
       "      <td>1502 - OCCIDENTAL</td>\n",
       "      <td>II.4  Pago para prácticas agrícolas beneficios...</td>\n",
       "      <td>5525,06</td>\n",
       "      <td>2022</td>\n",
       "      <td>5525.06</td>\n",
       "      <td>1502</td>\n",
       "    </tr>\n",
       "    <tr>\n",
       "      <th>3</th>\n",
       "      <td>A BOUCIÑA S.C.</td>\n",
       "      <td>A Coruña</td>\n",
       "      <td>1502 - OCCIDENTAL</td>\n",
       "      <td>II.10  Reembolso de créditos prorrogados del e...</td>\n",
       "      <td>607,66</td>\n",
       "      <td>2022</td>\n",
       "      <td>607.66</td>\n",
       "      <td>1502</td>\n",
       "    </tr>\n",
       "    <tr>\n",
       "      <th>4</th>\n",
       "      <td>A BOUCIÑA S.C.</td>\n",
       "      <td>A Coruña</td>\n",
       "      <td>1502 - OCCIDENTAL</td>\n",
       "      <td>II.7  Ayuda asociada voluntaria</td>\n",
       "      <td>11994,6</td>\n",
       "      <td>2022</td>\n",
       "      <td>11994.60</td>\n",
       "      <td>1502</td>\n",
       "    </tr>\n",
       "  </tbody>\n",
       "</table>\n",
       "</div>"
      ],
      "text/plain": [
       "     BENEFICIARIO PROVINCIA          MUNICIPIO  \\\n",
       "0  A BOUCIÑA S.C.  A Coruña  1502 - OCCIDENTAL   \n",
       "1  A BOUCIÑA S.C.  A Coruña  1502 - OCCIDENTAL   \n",
       "2  A BOUCIÑA S.C.  A Coruña  1502 - OCCIDENTAL   \n",
       "3  A BOUCIÑA S.C.  A Coruña  1502 - OCCIDENTAL   \n",
       "4  A BOUCIÑA S.C.  A Coruña  1502 - OCCIDENTAL   \n",
       "\n",
       "                                              MEDIDA   IMPORTE  year  \\\n",
       "0                       II.1  Régimen de pago básico  10575,45  2022   \n",
       "1  IV/A.18  Ayuda a zonas con limitaciones natura...    2653,2  2022   \n",
       "2  II.4  Pago para prácticas agrícolas beneficios...   5525,06  2022   \n",
       "3  II.10  Reembolso de créditos prorrogados del e...    607,66  2022   \n",
       "4                    II.7  Ayuda asociada voluntaria   11994,6  2022   \n",
       "\n",
       "     amount recipient_postcode  \n",
       "0  10575.45               1502  \n",
       "1   2653.20               1502  \n",
       "2   5525.06               1502  \n",
       "3    607.66               1502  \n",
       "4  11994.60               1502  "
      ]
     },
     "execution_count": 54,
     "metadata": {},
     "output_type": "execute_result"
    }
   ],
   "source": [
    "df['recipient_postcode'] = df['MUNICIPIO'].str.split(' - ').apply(lambda x: x[0])\n",
    "df.head()"
   ]
  },
  {
   "cell_type": "code",
   "execution_count": 55,
   "metadata": {},
   "outputs": [
    {
     "data": {
      "text/html": [
       "<div>\n",
       "<style scoped>\n",
       "    .dataframe tbody tr th:only-of-type {\n",
       "        vertical-align: middle;\n",
       "    }\n",
       "\n",
       "    .dataframe tbody tr th {\n",
       "        vertical-align: top;\n",
       "    }\n",
       "\n",
       "    .dataframe thead th {\n",
       "        text-align: right;\n",
       "    }\n",
       "</style>\n",
       "<table border=\"1\" class=\"dataframe\">\n",
       "  <thead>\n",
       "    <tr style=\"text-align: right;\">\n",
       "      <th></th>\n",
       "      <th>BENEFICIARIO</th>\n",
       "      <th>PROVINCIA</th>\n",
       "      <th>MUNICIPIO</th>\n",
       "      <th>MEDIDA</th>\n",
       "      <th>IMPORTE</th>\n",
       "      <th>year</th>\n",
       "      <th>amount</th>\n",
       "      <th>recipient_postcode</th>\n",
       "      <th>recipient_location</th>\n",
       "    </tr>\n",
       "  </thead>\n",
       "  <tbody>\n",
       "    <tr>\n",
       "      <th>0</th>\n",
       "      <td>A BOUCIÑA S.C.</td>\n",
       "      <td>A Coruña</td>\n",
       "      <td>1502 - OCCIDENTAL</td>\n",
       "      <td>II.1  Régimen de pago básico</td>\n",
       "      <td>10575,45</td>\n",
       "      <td>2022</td>\n",
       "      <td>10575.45</td>\n",
       "      <td>1502</td>\n",
       "      <td>OCCIDENTAL, A Coruña</td>\n",
       "    </tr>\n",
       "    <tr>\n",
       "      <th>1</th>\n",
       "      <td>A BOUCIÑA S.C.</td>\n",
       "      <td>A Coruña</td>\n",
       "      <td>1502 - OCCIDENTAL</td>\n",
       "      <td>IV/A.18  Ayuda a zonas con limitaciones natura...</td>\n",
       "      <td>2653,2</td>\n",
       "      <td>2022</td>\n",
       "      <td>2653.20</td>\n",
       "      <td>1502</td>\n",
       "      <td>OCCIDENTAL, A Coruña</td>\n",
       "    </tr>\n",
       "    <tr>\n",
       "      <th>2</th>\n",
       "      <td>A BOUCIÑA S.C.</td>\n",
       "      <td>A Coruña</td>\n",
       "      <td>1502 - OCCIDENTAL</td>\n",
       "      <td>II.4  Pago para prácticas agrícolas beneficios...</td>\n",
       "      <td>5525,06</td>\n",
       "      <td>2022</td>\n",
       "      <td>5525.06</td>\n",
       "      <td>1502</td>\n",
       "      <td>OCCIDENTAL, A Coruña</td>\n",
       "    </tr>\n",
       "    <tr>\n",
       "      <th>3</th>\n",
       "      <td>A BOUCIÑA S.C.</td>\n",
       "      <td>A Coruña</td>\n",
       "      <td>1502 - OCCIDENTAL</td>\n",
       "      <td>II.10  Reembolso de créditos prorrogados del e...</td>\n",
       "      <td>607,66</td>\n",
       "      <td>2022</td>\n",
       "      <td>607.66</td>\n",
       "      <td>1502</td>\n",
       "      <td>OCCIDENTAL, A Coruña</td>\n",
       "    </tr>\n",
       "    <tr>\n",
       "      <th>4</th>\n",
       "      <td>A BOUCIÑA S.C.</td>\n",
       "      <td>A Coruña</td>\n",
       "      <td>1502 - OCCIDENTAL</td>\n",
       "      <td>II.7  Ayuda asociada voluntaria</td>\n",
       "      <td>11994,6</td>\n",
       "      <td>2022</td>\n",
       "      <td>11994.60</td>\n",
       "      <td>1502</td>\n",
       "      <td>OCCIDENTAL, A Coruña</td>\n",
       "    </tr>\n",
       "  </tbody>\n",
       "</table>\n",
       "</div>"
      ],
      "text/plain": [
       "     BENEFICIARIO PROVINCIA          MUNICIPIO  \\\n",
       "0  A BOUCIÑA S.C.  A Coruña  1502 - OCCIDENTAL   \n",
       "1  A BOUCIÑA S.C.  A Coruña  1502 - OCCIDENTAL   \n",
       "2  A BOUCIÑA S.C.  A Coruña  1502 - OCCIDENTAL   \n",
       "3  A BOUCIÑA S.C.  A Coruña  1502 - OCCIDENTAL   \n",
       "4  A BOUCIÑA S.C.  A Coruña  1502 - OCCIDENTAL   \n",
       "\n",
       "                                              MEDIDA   IMPORTE  year  \\\n",
       "0                       II.1  Régimen de pago básico  10575,45  2022   \n",
       "1  IV/A.18  Ayuda a zonas con limitaciones natura...    2653,2  2022   \n",
       "2  II.4  Pago para prácticas agrícolas beneficios...   5525,06  2022   \n",
       "3  II.10  Reembolso de créditos prorrogados del e...    607,66  2022   \n",
       "4                    II.7  Ayuda asociada voluntaria   11994,6  2022   \n",
       "\n",
       "     amount recipient_postcode    recipient_location  \n",
       "0  10575.45               1502  OCCIDENTAL, A Coruña  \n",
       "1   2653.20               1502  OCCIDENTAL, A Coruña  \n",
       "2   5525.06               1502  OCCIDENTAL, A Coruña  \n",
       "3    607.66               1502  OCCIDENTAL, A Coruña  \n",
       "4  11994.60               1502  OCCIDENTAL, A Coruña  "
      ]
     },
     "execution_count": 55,
     "metadata": {},
     "output_type": "execute_result"
    }
   ],
   "source": [
    "df['recipient_location'] = df.apply(lambda x: '%s, %s' % (x['MUNICIPIO'].split(' - ')[1], x['PROVINCIA']), 1)\n",
    "df.head()"
   ]
  },
  {
   "cell_type": "code",
   "execution_count": 59,
   "metadata": {},
   "outputs": [
    {
     "data": {
      "text/html": [
       "<div>\n",
       "<style scoped>\n",
       "    .dataframe tbody tr th:only-of-type {\n",
       "        vertical-align: middle;\n",
       "    }\n",
       "\n",
       "    .dataframe tbody tr th {\n",
       "        vertical-align: top;\n",
       "    }\n",
       "\n",
       "    .dataframe thead th {\n",
       "        text-align: right;\n",
       "    }\n",
       "</style>\n",
       "<table border=\"1\" class=\"dataframe\">\n",
       "  <thead>\n",
       "    <tr style=\"text-align: right;\">\n",
       "      <th></th>\n",
       "      <th>recipient_name</th>\n",
       "      <th>scheme</th>\n",
       "      <th>year</th>\n",
       "      <th>amount</th>\n",
       "      <th>recipient_postcode</th>\n",
       "      <th>recipient_location</th>\n",
       "      <th>country</th>\n",
       "      <th>currency</th>\n",
       "      <th>recipient_id</th>\n",
       "    </tr>\n",
       "  </thead>\n",
       "  <tbody>\n",
       "    <tr>\n",
       "      <th>0</th>\n",
       "      <td>A BOUCIÑA S.C.</td>\n",
       "      <td>II.1  Régimen de pago básico</td>\n",
       "      <td>2022</td>\n",
       "      <td>10575.45</td>\n",
       "      <td>1502</td>\n",
       "      <td>OCCIDENTAL, A Coruña</td>\n",
       "      <td>ES</td>\n",
       "      <td>EUR</td>\n",
       "      <td>ES-1502-a-boucina-s-c</td>\n",
       "    </tr>\n",
       "    <tr>\n",
       "      <th>1</th>\n",
       "      <td>A BOUCIÑA S.C.</td>\n",
       "      <td>IV/A.18  Ayuda a zonas con limitaciones natura...</td>\n",
       "      <td>2022</td>\n",
       "      <td>2653.20</td>\n",
       "      <td>1502</td>\n",
       "      <td>OCCIDENTAL, A Coruña</td>\n",
       "      <td>ES</td>\n",
       "      <td>EUR</td>\n",
       "      <td>ES-1502-a-boucina-s-c</td>\n",
       "    </tr>\n",
       "    <tr>\n",
       "      <th>2</th>\n",
       "      <td>A BOUCIÑA S.C.</td>\n",
       "      <td>II.4  Pago para prácticas agrícolas beneficios...</td>\n",
       "      <td>2022</td>\n",
       "      <td>5525.06</td>\n",
       "      <td>1502</td>\n",
       "      <td>OCCIDENTAL, A Coruña</td>\n",
       "      <td>ES</td>\n",
       "      <td>EUR</td>\n",
       "      <td>ES-1502-a-boucina-s-c</td>\n",
       "    </tr>\n",
       "    <tr>\n",
       "      <th>3</th>\n",
       "      <td>A BOUCIÑA S.C.</td>\n",
       "      <td>II.10  Reembolso de créditos prorrogados del e...</td>\n",
       "      <td>2022</td>\n",
       "      <td>607.66</td>\n",
       "      <td>1502</td>\n",
       "      <td>OCCIDENTAL, A Coruña</td>\n",
       "      <td>ES</td>\n",
       "      <td>EUR</td>\n",
       "      <td>ES-1502-a-boucina-s-c</td>\n",
       "    </tr>\n",
       "    <tr>\n",
       "      <th>4</th>\n",
       "      <td>A BOUCIÑA S.C.</td>\n",
       "      <td>II.7  Ayuda asociada voluntaria</td>\n",
       "      <td>2022</td>\n",
       "      <td>11994.60</td>\n",
       "      <td>1502</td>\n",
       "      <td>OCCIDENTAL, A Coruña</td>\n",
       "      <td>ES</td>\n",
       "      <td>EUR</td>\n",
       "      <td>ES-1502-a-boucina-s-c</td>\n",
       "    </tr>\n",
       "  </tbody>\n",
       "</table>\n",
       "</div>"
      ],
      "text/plain": [
       "   recipient_name                                             scheme  year  \\\n",
       "0  A BOUCIÑA S.C.                       II.1  Régimen de pago básico  2022   \n",
       "1  A BOUCIÑA S.C.  IV/A.18  Ayuda a zonas con limitaciones natura...  2022   \n",
       "2  A BOUCIÑA S.C.  II.4  Pago para prácticas agrícolas beneficios...  2022   \n",
       "3  A BOUCIÑA S.C.  II.10  Reembolso de créditos prorrogados del e...  2022   \n",
       "4  A BOUCIÑA S.C.                    II.7  Ayuda asociada voluntaria  2022   \n",
       "\n",
       "     amount recipient_postcode    recipient_location country currency  \\\n",
       "0  10575.45               1502  OCCIDENTAL, A Coruña      ES      EUR   \n",
       "1   2653.20               1502  OCCIDENTAL, A Coruña      ES      EUR   \n",
       "2   5525.06               1502  OCCIDENTAL, A Coruña      ES      EUR   \n",
       "3    607.66               1502  OCCIDENTAL, A Coruña      ES      EUR   \n",
       "4  11994.60               1502  OCCIDENTAL, A Coruña      ES      EUR   \n",
       "\n",
       "            recipient_id  \n",
       "0  ES-1502-a-boucina-s-c  \n",
       "1  ES-1502-a-boucina-s-c  \n",
       "2  ES-1502-a-boucina-s-c  \n",
       "3  ES-1502-a-boucina-s-c  \n",
       "4  ES-1502-a-boucina-s-c  "
      ]
     },
     "execution_count": 59,
     "metadata": {},
     "output_type": "execute_result"
    }
   ],
   "source": [
    "from slugify import slugify\n",
    "\n",
    "df = df.rename(columns={\n",
    "    'BENEFICIARIO': 'recipient_name',\n",
    "    'MEDIDA': 'scheme',\n",
    "})\n",
    "df = df.drop(['PROVINCIA', 'MUNICIPIO', 'IMPORTE'], axis=1)\n",
    "df['country'] = 'ES'\n",
    "df['currency'] = 'EUR'\n",
    "df['recipient_id'] = df.apply(lambda x: 'ES-%s-%s' % (x['recipient_postcode'], slugify(x['recipient_name'])), 1)\n",
    "df.head()"
   ]
  },
  {
   "cell_type": "code",
   "execution_count": 60,
   "metadata": {},
   "outputs": [],
   "source": [
    "df.to_csv('es_{YEAR}.csv.gz'.format(YEAR=YEAR), index=False, encoding='utf-8', compression='gzip')"
   ]
  },
  {
   "cell_type": "code",
   "execution_count": null,
   "metadata": {},
   "outputs": [],
   "source": []
  }
 ],
 "metadata": {
  "kernelspec": {
   "display_name": "Python 3 (ipykernel)",
   "language": "python",
   "name": "python3"
  },
  "language_info": {
   "codemirror_mode": {
    "name": "ipython",
    "version": 3
   },
   "file_extension": ".py",
   "mimetype": "text/x-python",
   "name": "python",
   "nbconvert_exporter": "python",
   "pygments_lexer": "ipython3",
   "version": "3.9.18"
  }
 },
 "nbformat": 4,
 "nbformat_minor": 4
}
